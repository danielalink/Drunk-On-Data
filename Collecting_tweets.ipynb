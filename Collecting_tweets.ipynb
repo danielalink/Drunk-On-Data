{
 "cells": [
  {
   "cell_type": "code",
   "execution_count": 10,
   "metadata": {},
   "outputs": [],
   "source": [
    "# Dependencies\n",
    "import tweepy\n",
    "import json\n",
    "from config import consumer_key, consumer_secret, access_token, access_token_secret\n",
    "\n",
    "# Setup Tweepy API Authentication\n",
    "auth = tweepy.OAuthHandler(consumer_key, consumer_secret)\n",
    "auth.set_access_token(access_token, access_token_secret)\n",
    "api = tweepy.API(auth, parser=tweepy.parsers.JSONParser())"
   ]
  },
  {
   "cell_type": "code",
   "execution_count": 13,
   "metadata": {},
   "outputs": [
    {
     "name": "stdout",
     "output_type": "stream",
     "text": [
      "Which term would you like to search for? travel ban\n"
     ]
    }
   ],
   "source": [
    "# Search Term\n",
    "search_term = input(\"Which term would you like to search for? \")\n",
    "\n",
    "# Search for all tweets\n",
    "public_tweets = api.search(search_term)\n",
    "# public_tweets"
   ]
  },
  {
   "cell_type": "code",
   "execution_count": 14,
   "metadata": {},
   "outputs": [
    {
     "name": "stdout",
     "output_type": "stream",
     "text": [
      "@LauraLoomer That’s strange because Maxine is old news and I’m watching reruns of the Rosenstein testimony now. He’… https://t.co/knDrioETcI\n",
      "RT @TopRopeTravis: Let me go ahead and fix this for Fox News:\n",
      "\n",
      "A white male murdered multiple journalists in an act of terrorism following…\n",
      "RT @TopRopeTravis: Let me go ahead and fix this for Fox News:\n",
      "\n",
      "A white male murdered multiple journalists in an act of terrorism following…\n",
      "RT @kerrykelly514: @snitfit Justice Roberts Pushes Back at Sotomayor's 'Wholly Inapt' Dissent Over Travel Ban https://t.co/QDtwVmxwRv\n",
      "RT @RobertMaguire_: White men in Annapolis have killed more Americans today alone than have died in all terrorist attacks on American soil…\n",
      "RT @TopRopeTravis: Let me go ahead and fix this for Fox News:\n",
      "\n",
      "A white male murdered multiple journalists in an act of terrorism following…\n",
      "RT @RobertMaguire_: White men in Annapolis have killed more Americans today alone than have died in all terrorist attacks on American soil…\n",
      "RT @SecOfState70: REPORT: The Supreme Court added Maxine Waters to President Trumps Travel Ban.\n",
      "RT @TopRopeTravis: Let me go ahead and fix this for Fox News:\n",
      "\n",
      "A white male murdered multiple journalists in an act of terrorism following…\n",
      "@BrettschneiderC @JasonLaCanfora @JohnFugelsang @David_Feldman_ @darrwest Travel ban was legal.  No taint there. We… https://t.co/J1FJWOLUTf\n",
      "RT @TopRopeTravis: Let me go ahead and fix this for Fox News:\n",
      "\n",
      "A white male murdered multiple journalists in an act of terrorism following…\n",
      "RT @palominorasta: How's that Muslim travel ban working out for you America? https://t.co/FeGb4vggv7\n",
      "RT @TopRopeTravis: Let me go ahead and fix this for Fox News:\n",
      "\n",
      "A white male murdered multiple journalists in an act of terrorism following…\n",
      "RT @TopRopeTravis: Let me go ahead and fix this for Fox News:\n",
      "\n",
      "A white male murdered multiple journalists in an act of terrorism following…\n",
      "RT @TopRopeTravis: Let me go ahead and fix this for Fox News:\n",
      "\n",
      "A white male murdered multiple journalists in an act of terrorism following…\n"
     ]
    }
   ],
   "source": [
    "# View Search Object\n",
    "# print(public_tweets)\n",
    "\n",
    "# Loop through all tweets\n",
    "for tweet in public_tweets[\"statuses\"]:\n",
    "\n",
    "    # Utilize JSON dumps to generate a pretty-printed json\n",
    "    # print(json.dumps(tweet, sort_keys=True, indent=4, separators=(',', ': ')))\n",
    "    print(tweet[\"text\"])"
   ]
  },
  {
   "cell_type": "code",
   "execution_count": null,
   "metadata": {},
   "outputs": [],
   "source": []
  }
 ],
 "metadata": {
  "kernelspec": {
   "display_name": "Python 3",
   "language": "python",
   "name": "python3"
  },
  "language_info": {
   "codemirror_mode": {
    "name": "ipython",
    "version": 3
   },
   "file_extension": ".py",
   "mimetype": "text/x-python",
   "name": "python",
   "nbconvert_exporter": "python",
   "pygments_lexer": "ipython3",
   "version": "3.6.4"
  },
  "varInspector": {
   "cols": {
    "lenName": 16,
    "lenType": 16,
    "lenVar": 40
   },
   "kernels_config": {
    "python": {
     "delete_cmd_postfix": "",
     "delete_cmd_prefix": "del ",
     "library": "var_list.py",
     "varRefreshCmd": "print(var_dic_list())"
    },
    "r": {
     "delete_cmd_postfix": ") ",
     "delete_cmd_prefix": "rm(",
     "library": "var_list.r",
     "varRefreshCmd": "cat(var_dic_list()) "
    }
   },
   "types_to_exclude": [
    "module",
    "function",
    "builtin_function_or_method",
    "instance",
    "_Feature"
   ],
   "window_display": false
  }
 },
 "nbformat": 4,
 "nbformat_minor": 2
}
