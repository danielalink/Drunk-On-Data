{
 "cells": [
  {
   "cell_type": "code",
   "execution_count": 2,
   "metadata": {},
   "outputs": [],
   "source": [
    "# Dependencies\n",
    "import tweepy\n",
    "import json\n",
    "from config import consumer_key, consumer_secret, access_token, access_token_secret\n",
    "\n",
    "# Setup Tweepy API Authentication\n",
    "auth = tweepy.OAuthHandler(consumer_key, consumer_secret)\n",
    "auth.set_access_token(access_token, access_token_secret)\n",
    "api = tweepy.API(auth, parser=tweepy.parsers.JSONParser())"
   ]
  },
  {
   "cell_type": "code",
   "execution_count": 3,
   "metadata": {},
   "outputs": [
    {
     "name": "stdout",
     "output_type": "stream",
     "text": [
      "Which term would you like to search for? Trump\n"
     ]
    }
   ],
   "source": [
    "#longitude & Latitude\n",
    "lat = -74.114005   ##### This is hard-coded, needs to be looped\n",
    "lat = 40.828495   ##### This is hard-coded, needs to be looped \n",
    "lat = str(lat) + \"00000\"\n",
    "lng = str(lng) + \"00000\"\n",
    "# Search Term\n",
    "search_term = input(\"Which term would you like to search for? \")\n",
    "search_term = search_term + \" geocode:\"+lat+\",\"+lng+\",555km\"\n",
    "#Filters\n",
    "min_tweets = 5\n",
    "max_tweets = 10000\n",
    "lang = \"en\"\n",
    "\n",
    "# Create variable for holding the oldest tweet\n",
    "oldest_tweet = None\n",
    "\n",
    "# List to hold unique IDs\n",
    "unique_ids = []\n",
    "\n",
    "# Counter to keep track of the number of tweets retrieved\n",
    "counter = 0"
   ]
  },
  {
   "cell_type": "code",
   "execution_count": null,
   "metadata": {},
   "outputs": [],
   "source": [
    "for i in range(0.5, )\n",
    "\n",
    "        #longitude & Latitude\n",
    "        lat = -74.114005   ##### This is hard-coded, needs to be looped\n",
    "        lat = 40.828495   ##### This is hard-coded, needs to be looped \n",
    "        lat = str(lat) + \"00000\"\n",
    "        lng = str(lng) + \"00000\"\n",
    "        # Search Term\n",
    "        search_term = input(\"Which term would you like to search for? \")\n",
    "        search_term = search_term + \" geocode:\"+lat+\",\"+lng+\",555km\"\n",
    "        #Filters\n",
    "        min_tweets = 5\n",
    "        max_tweets = 10000\n",
    "        lang = \"en\"\n",
    "\n",
    "        # Create variable for holding the oldest tweet\n",
    "        oldest_tweet = None\n",
    "\n",
    "        # List to hold unique IDs\n",
    "        unique_ids = []\n",
    "\n",
    "        # Counter to keep track of the number of tweets retrieved\n",
    "        counter = 0"
   ]
  },
  {
   "cell_type": "code",
   "execution_count": 4,
   "metadata": {},
   "outputs": [
    {
     "name": "stdout",
     "output_type": "stream",
     "text": [
      "captmarvel02\n",
      "1014279618344509440\n",
      "RT @WhiteHouse: President Trump delivers remarks at the Salute to Service dinner. https://t.co/pnZIkj9fVE\n",
      "\n",
      "DavidSchrimpf\n",
      "1014279614691065857\n",
      "RT @chrislhayes: The Trump Years: A Strong Showing of Bad Faith https://t.co/Q6UTtfjGWS\n",
      "\n",
      "Karengeo3\n",
      "1014279614624075777\n",
      "RT @WhiteHouse: Secretary Steven Mnuchin in the Tampa Bay Times: \"Trump tax cuts have strengthened U.S. economy\"\n",
      "\n",
      "Read more in West Wing Re…\n",
      "\n",
      "scrypictures\n",
      "1014279613000794113\n",
      "RT @Amy_Siskind: ON THE SAME DAY A REPUBLICAN-LED SENATE INTELLIGENCE COMMITTEE FOUND PUTIN INTERFERED WITH OUR 2016 ELECTION TO HELP ELECT…\n",
      "\n",
      "roxanne1032\n",
      "1014279612476547072\n",
      "RT @Amy_Siskind: ON THE SAME DAY A REPUBLICAN-LED SENATE INTELLIGENCE COMMITTEE FOUND PUTIN INTERFERED WITH OUR 2016 ELECTION TO HELP ELECT…\n",
      "\n",
      "lostom1\n",
      "1014279611918835715\n",
      "RT @DailyCaller: REPORT: Pruitt Asked Trump To Fire Sessions, So He Could Run The DOJ https://t.co/dGAH7uIR4r https://t.co/TqHIsgNJ55\n",
      "\n",
      "02catz\n",
      "1014279610945687553\n",
      "RT @washingtonpost: Judge allows multi-state lawsuit against Trump administration on census citizenship question to move forward https://t.…\n",
      "\n",
      "realChrisBubbaC\n",
      "1014279607951024129\n",
      "RT @OliverMcGee: Blacks are walking away from the Democratic Party in droves and joining the Trump Train!\n",
      "\n",
      "The left has no message and no n…\n",
      "\n",
      "HoangP1\n",
      "1014279606772219905\n",
      "RT @Amy_Siskind: ON THE SAME DAY A REPUBLICAN-LED SENATE INTELLIGENCE COMMITTEE FOUND PUTIN INTERFERED WITH OUR 2016 ELECTION TO HELP ELECT…\n",
      "\n",
      "Kjwalsh_news\n",
      "1014279604704546826\n",
      "President Trump begins his remarks at Salute to Service dinner at the Greenbrier  in White Sulphur Springs, WV talk… https://t.co/liXfHQVoMi\n",
      "\n",
      "AnlashokOne\n",
      "1014279603635064838\n",
      "RT @CharlesMBlow: Let’s be clear: The fact that McConnell denied Obama the right to nominate a SCOTUS before an election but will allow Tru…\n",
      "\n",
      "JoeMan26900550\n",
      "1014279603416944641\n",
      "@realDonaldTrump https://t.co/QPPuIa6vlv\n",
      "\n",
      "vjcarmosino\n",
      "1014279602804482048\n",
      "RT @CBSNews: The Trump administration today reversed an Obama-era policy that encouraged colleges to consider race as a factor in admission…\n",
      "\n",
      "plees13\n",
      "1014279599079870464\n",
      "RT @chrislhayes: The Trump Years: A Strong Showing of Bad Faith https://t.co/Q6UTtfjGWS\n",
      "\n",
      "Andyhockey09\n",
      "1014279598635388928\n",
      "RT @activist360: It makes ZERO sense for Trump-lovers to boycott Walmart for selling 'Impeach 45' apparel when they also sell 'Make America…\n",
      "\n",
      "Beliakova_P\n",
      "1014279598325030912\n",
      "RT @USIP: Crimea isn’t President Trump’s to give away, our Amb. Bill Taylor told @melindaharing of the @AtlanticCouncil.\n",
      "https://t.co/urOKr…\n",
      "\n",
      "Whereamme\n",
      "1014279598186606592\n",
      "RT @thehill: Trump biographer: Trump didn't write any of his books https://t.co/CKWRnuGTKJ https://t.co/St15g9NKdC\n",
      "\n",
      "DennisBeaver7\n",
      "1014279595170942977\n",
      "RT @jimsciutto: What are Putin's goals? 1- Undermine NATO. 2- Force West to accept Crimea annexation. 3- Undermine western democracies thru…\n",
      "\n",
      "jaa60\n",
      "1014279594919243777\n",
      "RT @tonyposnanski: After attacking Maxine Waters, Elizabeth Warren, Nancy Pelosi, and Kamala Harris on Twitter...\n",
      "\n",
      "One thing is clear about…\n",
      "\n",
      "HCarbunfo\n",
      "1014279594432659456\n",
      "RT @waltshaub: Despicable. Trump is under a court order to reunite the families but has found a way to use that as leverage to get people t…\n",
      "\n",
      "kierrabrynne\n",
      "1014279593740693505\n",
      "RT @thehill: Trump misspells word in tweet bragging about \"ability to write\" https://t.co/2uVo2BQseq https://t.co/M4PaYYc047\n",
      "\n",
      "JPPetersonAtl\n",
      "1014279592855646214\n",
      "@The_Trump_Train @realDonaldTrump  https://t.co/W4bfjI3VIm\n",
      "\n",
      "bbooth300\n",
      "1014279592205606914\n",
      "RT @aravosis: Gang, there’s a huge college-boy sex abuse scandal involving Freedom Caucus co-founder GOP Rep @Jim_Jordan (who is a staunch…\n",
      "\n",
      "RocknRollAtty\n",
      "1014279589651206146\n",
      "RT @CharlesMBlow: Let’s be clear: The fact that McConnell denied Obama the right to nominate a SCOTUS before an election but will allow Tru…\n",
      "\n",
      "1055anton\n",
      "1014279589269594112\n",
      "RT @FBRSquad: Who else wants to see Trump impeached before November 6th?  Let me hear you.\n",
      "\n",
      "Retweet far and wide, please.\n",
      "\n",
      "B3NN_it\n",
      "1014279589206609923\n",
      "RT @thehill: Indiana church displays Mary, Joseph, Baby Jesus inside cage to protest Trump immigration policies https://t.co/EdA9VXOHWE htt…\n",
      "\n",
      "KayM728\n",
      "1014279588082528256\n",
      "@girl4_trump The religious &amp; activist organizations are making millions caring for these refugees.  No one should b… https://t.co/uN9bz6ENNu\n",
      "\n",
      "hollandfrieling\n",
      "1014279584722964480\n",
      "RT @KamalaHarris: Donald Trump wants to fill this SCOTUS vacancy with a justice who will overturn Roe v. Wade. Here’s what this is really a…\n",
      "\n",
      "ROZ2112\n",
      "1014279583913439234\n",
      "RT @OliverMcGee: Blacks are walking away from the Democratic Party in droves and joining the Trump Train!\n",
      "\n",
      "The left has no message and no n…\n",
      "\n",
      "mwebber121\n",
      "1014279583124860928\n",
      "RT @ddale8: Trump, at a military tribute dinner, begins talking about the military, then says there might soon be \"a little thing called SP…\n",
      "\n",
      "clark_clark21\n",
      "1014279582743027712\n",
      "RT @TheBeatWithAri: It's a \"shame that we are talking about civility but only on one side\" and \"we see very little respect for it\" on the T…\n",
      "\n",
      "talloaks45\n",
      "1014279582617391104\n",
      "Another Emboldened Trump supporter! Enough &amp; time for them to be arrested. Seems like many occurrences lately &amp; mus… https://t.co/yRXdFwkJAQ\n",
      "\n",
      "delantz\n",
      "1014279581748981760\n",
      "RT @Amy_Siskind: A Republican-led intelligence committee in the Senate just found Putin interfered in our election to install Trump. Until…\n",
      "\n"
     ]
    }
   ],
   "source": [
    "# Search for all tweets\n",
    "public_tweets = api.search(search_term, \n",
    "                           count=100, \n",
    "                           result_type=\"recent\",\n",
    "                           max_id=oldest_tweet)\n",
    "\n",
    "# Print Tweets\n",
    "for tweet in public_tweets[\"statuses\"]:\n",
    "\n",
    "    tweet_id = tweet[\"id\"]\n",
    "\n",
    "    # Use filters to check if user meets conditions\n",
    "    if (tweet[\"user\"][\"statuses_count\"] > min_tweets and\n",
    "        tweet[\"user\"][\"statuses_count\"] < max_tweets and\n",
    "        tweet[\"user\"][\"lang\"] == lang):\n",
    "\n",
    "        # Print the username\n",
    "        print(tweet[\"user\"][\"screen_name\"])\n",
    "\n",
    "        # Print the tweet id\n",
    "        print(tweet[\"id_str\"])\n",
    "\n",
    "        # Print the tweet text\n",
    "        print(tweet[\"text\"])\n",
    "        print()\n",
    "\n",
    "        # Append tweet_id to ids list if it doesn't already exist\n",
    "        # This allows checking for duplicate tweets\n",
    "        if tweet_id not in unique_ids:\n",
    "            unique_ids.append(tweet_id)\n",
    "\n",
    "        # Increase counter by 1\n",
    "        counter += 1\n",
    "\n",
    "    # Reassign the the oldest tweet (i.e. the max_id)\n",
    "    # Subtract 1 so the previous oldest isn't included\n",
    "    # in the new search\n",
    "    oldest_tweet = tweet_id - 1\n"
   ]
  },
  {
   "cell_type": "code",
   "execution_count": 54,
   "metadata": {},
   "outputs": [
    {
     "data": {
      "text/plain": [
       "'Trump geocode:-64.90115900000,-19.02838700000,555km'"
      ]
     },
     "execution_count": 54,
     "metadata": {},
     "output_type": "execute_result"
    }
   ],
   "source": [
    "search_term"
   ]
  },
  {
   "cell_type": "code",
   "execution_count": 53,
   "metadata": {},
   "outputs": [
    {
     "data": {
      "text/plain": [
       "{'search_metadata': {'completed_in': 0.038,\n",
       "  'count': 100,\n",
       "  'max_id': 1013117207952412673,\n",
       "  'max_id_str': '1013117207952412673',\n",
       "  'query': 'Trump+geocode%3A-64.90115900000%2C-19.02838700000%2C555km',\n",
       "  'refresh_url': '?since_id=1013117207952412673&q=Trump%20geocode%3A-64.90115900000%2C-19.02838700000%2C555km&result_type=recent&include_entities=1',\n",
       "  'since_id': 0,\n",
       "  'since_id_str': '0'},\n",
       " 'statuses': []}"
      ]
     },
     "execution_count": 53,
     "metadata": {},
     "output_type": "execute_result"
    }
   ],
   "source": [
    "public_tweets"
   ]
  },
  {
   "cell_type": "code",
   "execution_count": null,
   "metadata": {},
   "outputs": [],
   "source": []
  }
 ],
 "metadata": {
  "kernelspec": {
   "display_name": "Python 3",
   "language": "python",
   "name": "python3"
  },
  "language_info": {
   "codemirror_mode": {
    "name": "ipython",
    "version": 3
   },
   "file_extension": ".py",
   "mimetype": "text/x-python",
   "name": "python",
   "nbconvert_exporter": "python",
   "pygments_lexer": "ipython3",
   "version": "3.6.4"
  },
  "varInspector": {
   "cols": {
    "lenName": 16,
    "lenType": 16,
    "lenVar": 40
   },
   "kernels_config": {
    "python": {
     "delete_cmd_postfix": "",
     "delete_cmd_prefix": "del ",
     "library": "var_list.py",
     "varRefreshCmd": "print(var_dic_list())"
    },
    "r": {
     "delete_cmd_postfix": ") ",
     "delete_cmd_prefix": "rm(",
     "library": "var_list.r",
     "varRefreshCmd": "cat(var_dic_list()) "
    }
   },
   "types_to_exclude": [
    "module",
    "function",
    "builtin_function_or_method",
    "instance",
    "_Feature"
   ],
   "window_display": false
  }
 },
 "nbformat": 4,
 "nbformat_minor": 2
}
